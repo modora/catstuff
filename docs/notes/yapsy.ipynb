{
 "cells": [
  {
   "cell_type": "markdown",
   "metadata": {
    "collapsed": true
   },
   "source": []
  },
  {
   "cell_type": "markdown",
   "metadata": {},
   "source": [
    "# Usage"
   ]
  },
  {
   "cell_type": "code",
   "execution_count": 1,
   "metadata": {},
   "outputs": [],
   "source": [
    "from yapsy.PluginManager import PluginManager\n",
    "from yapsy.IPlugin import IPlugin\n",
    "\n",
    "class CategoryClass(IPlugin):\n",
    "    def method(self):\n",
    "        return \"This is a plugin\"\n",
    "\n",
    "class Plugin1(CategoryClass):\n",
    "    def method(self):\n",
    "        return \"Plugin 1\"\n",
    "    \n",
    "class Plugin2(CategoryClass):\n",
    "    def method(self):\n",
    "        return \"Plugin2\"\n",
    "\n",
    "# init manager\n",
    "# All options can be specified later\n",
    "manager = PluginManager(categories_filter=\n",
    "                        {\"Category Name\": CategoryClass})\n",
    "manager.setPluginPlaces(['plugins'])  # relative to current file"
   ]
  },
  {
   "cell_type": "markdown",
   "metadata": {},
   "source": [
    "yapsy filters categories using the class object. The filter can always be specified later using the `setCategoriesFilter()` function"
   ]
  },
  {
   "cell_type": "code",
   "execution_count": 2,
   "metadata": {},
   "outputs": [],
   "source": [
    "# Load plugins\n",
    "manager.locatePlugins()\n",
    "manager.loadPlugins()\n",
    "\n",
    "# manager\n",
    "for plugin in manager.getPluginsOfCategory(\"Category Name\"):\n",
    "    print(plugin)"
   ]
  },
  {
   "cell_type": "markdown",
   "metadata": {},
   "source": [
    "# References"
   ]
  },
  {
   "cell_type": "markdown",
   "metadata": {},
   "source": [
    "[Making your app modular](http://ralsina.me/weblog/posts/BB923.html)\n",
    "\n",
    "[Yapsy minimal example](https://stackoverflow.com/questions/5333128/yapsy-minimal-example)\n",
    "\n",
    "[Official docs](http://yapsy.readthedocs.io/en/latest/index.html)"
   ]
  },
  {
   "cell_type": "markdown",
   "metadata": {},
   "source": [
    "Addition details can be added to the config. These addtional paramenters must be accessed using the details view of the plugin.\n",
    "\n",
    "For example, consider the config below\n",
    "```ini\n",
    "[Core]\n",
    "# Yapsy arguments\n",
    "Name = Module Name\n",
    "Module = filename_containing_mod_class.py\n",
    "\n",
    "# Custom argument\n",
    "Build = 1\n",
    "\n",
    "[Documentation]\n",
    "# Optional \n",
    "```\n",
    "\n",
    "To access the `Build` argument, use\n",
    "\n",
    "```code\n",
    "for plugin in manager.getAllPlugins():\n",
    "\tbuild = plugin.details['Core']['build']\n",
    "```\n",
    "\n",
    "Note that the all variables are parsed as lower case and the sections are uppercase"
   ]
  },
  {
   "cell_type": "code",
   "execution_count": null,
   "metadata": {},
   "outputs": [],
   "source": []
  },
  {
   "cell_type": "code",
   "execution_count": null,
   "metadata": {},
   "outputs": [],
   "source": []
  },
  {
   "cell_type": "code",
   "execution_count": null,
   "metadata": {},
   "outputs": [],
   "source": []
  },
  {
   "cell_type": "code",
   "execution_count": null,
   "metadata": {},
   "outputs": [],
   "source": []
  },
  {
   "cell_type": "code",
   "execution_count": null,
   "metadata": {},
   "outputs": [],
   "source": []
  },
  {
   "cell_type": "code",
   "execution_count": null,
   "metadata": {},
   "outputs": [],
   "source": []
  },
  {
   "cell_type": "code",
   "execution_count": null,
   "metadata": {},
   "outputs": [],
   "source": []
  }
 ],
 "metadata": {
  "kernelspec": {
   "display_name": "Python 2",
   "language": "python",
   "name": "python2"
  },
  "language_info": {
   "codemirror_mode": {
    "name": "ipython",
    "version": 2
   },
   "file_extension": ".py",
   "mimetype": "text/x-python",
   "name": "python",
   "nbconvert_exporter": "python",
   "pygments_lexer": "ipython2",
   "version": "2.7.6"
  }
 },
 "nbformat": 4,
 "nbformat_minor": 0
}
